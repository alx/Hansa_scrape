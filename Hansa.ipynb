{
 "cells": [
  {
   "cell_type": "code",
   "execution_count": 206,
   "metadata": {
    "collapsed": true
   },
   "outputs": [],
   "source": [
    "from BeautifulSoup import BeautifulSoup as BS\n",
    "#import pandas as pd\n",
    "from StringIO import StringIO\n",
    "from collections import namedtuple\n",
    "import os\n",
    "from pprint import pprint\n",
    "from HTMLParser import HTMLParser"
   ]
  },
  {
   "cell_type": "code",
   "execution_count": 207,
   "metadata": {
    "collapsed": true
   },
   "outputs": [],
   "source": [
    "html=open(\"/Users/pg/code/hamsa/listing.html\").read()"
   ]
  },
  {
   "cell_type": "code",
   "execution_count": 217,
   "metadata": {
    "collapsed": false
   },
   "outputs": [],
   "source": [
    "def parser_product(html):\n",
    "    soup=BS(html)\n",
    "\n",
    "    Entry=namedtuple('Entry', ['product_id','product', 'price_usd', \"price_btc\",\n",
    "                     \"vendor\",\"vendor_url\",\"product_type\",\n",
    "                    'delivery'])\n",
    "\n",
    "    li = soup.findAll(\"div\",{\"class\":\"row\"})[1].find(\"div\",{'class':\"col-md-8\"})\n",
    "\n",
    "\n",
    "    entry = { 'product_id':li.form.get('action'),\n",
    "    'product':li.h2.text,\n",
    "    'price_usd':li.find(\"div\",{\"class\":\"listing-price\"}).strong.text,\n",
    "    'price_btc':li.find(\"div\",{\"class\":\"listing-price\"}).span.text,\n",
    "    'vendor':li.tr.findAll(\"td\")[1].a.text,\n",
    "    'vendor_url':li.tr.findAll(\"td\")[1].a[\"href\"], \n",
    "    'product_type':li.findAll(\"td\")[3].text,        \n",
    "    'delivery':li.findAll(\"td\")[5].text,        \n",
    "    #'description':soup.p.text\n",
    "    }\n",
    "\n",
    "    return Entry(**entry)"
   ]
  },
  {
   "cell_type": "code",
   "execution_count": 209,
   "metadata": {
    "collapsed": true
   },
   "outputs": [],
   "source": [
    "def parser_feedback(html):\n",
    "    soup=BS(html)\n",
    "    feedbacks=[]\n",
    "    li = nn.findAll(\"div\",{\"class\":\"row\"})[1].find(\"div\",{'class':\"col-md-8\"})\n",
    "    prod=li.form.get('action')\n",
    "    Feedback = namedtuple(\"Feedback\", [\"date\",'user',\"delivery_time\", \"note\", \"text\"])\n",
    "    h=HTMLParser()\n",
    "    try:\n",
    "        for e in soup.find(\"table\",{\"class\":\"table\"}).tbody.findAll(\"tr\"):\n",
    "            feed,text,deliv,user,date=e.findAll('td')\n",
    "            feed=feed.span.get(\"class\").split()[1].split(\"-\")[1] \n",
    "            note=0\n",
    "            if feed == 'danger':\n",
    "                note=-1\n",
    "            if feed == \"default\":\n",
    "                note=0\n",
    "            if feed == \"success\":\n",
    "                note=1\n",
    "        #print \"||\".join([date.text,user.text, h.unescape(text.text),  deliv.text])\n",
    "            f=Feedback(date.text,user.text,deliv.text, note, text.text)\n",
    "            feedbacks.append(f)\n",
    "    except AttributeError:\n",
    "        pass\n",
    "    return feedbacks\n",
    "        "
   ]
  },
  {
   "cell_type": "code",
   "execution_count": 210,
   "metadata": {
    "collapsed": true
   },
   "outputs": [],
   "source": [
    "cmd=\"curl --socks4a 127.0.0.1:9150 http://hansamkt2rr6nfg3.onion/listing/11762/feedback/ -A 'Mozilla/5.0 (Windows NT 6.1; rv:45.0) Gecko/20100101 Firefox/45.0' \"\n",
    "d=os.popen(cmd).read()"
   ]
  },
  {
   "cell_type": "code",
   "execution_count": 211,
   "metadata": {
    "collapsed": false
   },
   "outputs": [],
   "source": [
    "#nn=BS(d)"
   ]
  },
  {
   "cell_type": "code",
   "execution_count": 218,
   "metadata": {
    "collapsed": false
   },
   "outputs": [
    {
     "data": {
      "text/plain": [
       "Entry(product_id=u'/listing/11762/', product=u'0,5G Fishcale Uncut Columbian Cocaine! 90% LAB TESTED', price_usd=u'USD 32.22', price_btc=u'0.0421', vendor=u'DSQ', vendor_url=u'/vendor/DSQ/', product_type=u'Physical', delivery=u'Europe (EU)')"
      ]
     },
     "execution_count": 218,
     "metadata": {},
     "output_type": "execute_result"
    }
   ],
   "source": [
    "parser_product(d)"
   ]
  },
  {
   "cell_type": "code",
   "execution_count": 213,
   "metadata": {
    "collapsed": false
   },
   "outputs": [
    {
     "data": {
      "text/plain": [
       "[Feedback(date=u'2016-11-29 09:34 UTC', user=u'i***s', delivery_time=u'26 days', note=1, text=u'pretty good stuff'),\n",
       " Feedback(date=u'2016-11-24 19:23 UTC', user=u't***4', delivery_time=u'Not specified', note=1, text=u'everything good! thanks'),\n",
       " Feedback(date=u'2016-11-13 14:25 UTC', user=u'Z***h', delivery_time=u'11 days', note=1, text=u'---'),\n",
       " Feedback(date=u'2016-09-23 20:18 UTC', user=u'd***d', delivery_time=u'Not specified', note=1, text=u'---'),\n",
       " Feedback(date=u'2016-08-23 13:00 UTC', user=u'd***b', delivery_time=u'2 days', note=0, text=u'stealth was ok, purity not so much'),\n",
       " Feedback(date=u'2016-08-03 14:40 UTC', user=u'l***s', delivery_time=u'Not specified', note=1, text=u'---'),\n",
       " Feedback(date=u'2016-08-03 08:57 UTC', user=u'n***a', delivery_time=u'Not specified', note=-1, text=u'I did&#039;t received anything and the vendor did not answer my last messsage.'),\n",
       " Feedback(date=u'2016-07-21 21:04 UTC', user=u'm***3', delivery_time=u'3 days', note=1, text=u'AAA+++'),\n",
       " Feedback(date=u'2016-07-20 08:49 UTC', user=u's***t', delivery_time=u'Not specified', note=1, text=u'A+++'),\n",
       " Feedback(date=u'2016-07-15 20:33 UTC', user=u'l***s', delivery_time=u'Not specified', note=1, text=u'---'),\n",
       " Feedback(date=u'2016-06-12 00:43 UTC', user=u'l***e', delivery_time=u'Not specified', note=1, text=u'fast! :)'),\n",
       " Feedback(date=u'2016-05-06 20:22 UTC', user=u'd***2', delivery_time=u'3 days', note=1, text=u'Super fast delivery, very professional vendor ,very good communication , very good stealth, shipped in rocks, nice surprise .didn&#039;t test yet , but looks like good stuff .I&#039;ll update for the result of the test ;)'),\n",
       " Feedback(date=u'2016-04-19 21:39 UTC', user=u's***i', delivery_time=u'3 days', note=1, text=u'Best Stealth I have Seen! Good product will come back! Hit like a Truck :D'),\n",
       " Feedback(date=u'2016-04-18 08:21 UTC', user=u't***m', delivery_time=u'Not specified', note=1, text=u'not 90% defently not'),\n",
       " Feedback(date=u'2016-04-14 18:54 UTC', user=u't***g', delivery_time=u'Not specified', note=1, text=u'Very good, fast, and what I expected to be !'),\n",
       " Feedback(date=u'2016-03-29 17:43 UTC', user=u'i***s', delivery_time=u'Not specified', note=1, text=u'---')]"
      ]
     },
     "execution_count": 213,
     "metadata": {},
     "output_type": "execute_result"
    }
   ],
   "source": [
    "parser_feedback(d)\n",
    "#nn.form.get('action')"
   ]
  },
  {
   "cell_type": "code",
   "execution_count": 216,
   "metadata": {
    "collapsed": false
   },
   "outputs": [],
   "source": [
    "#nn\n",
    "##pd.read_html(StringIO(nn.find(\"table\",{\"class\":\"table\"})))[0]#.to_array()"
   ]
  },
  {
   "cell_type": "code",
   "execution_count": null,
   "metadata": {
    "collapsed": true
   },
   "outputs": [],
   "source": []
  },
  {
   "cell_type": "code",
   "execution_count": null,
   "metadata": {
    "collapsed": true
   },
   "outputs": [],
   "source": []
  },
  {
   "cell_type": "code",
   "execution_count": null,
   "metadata": {
    "collapsed": true
   },
   "outputs": [],
   "source": []
  }
 ],
 "metadata": {
  "kernelspec": {
   "display_name": "Python 2",
   "language": "python",
   "name": "python2"
  },
  "language_info": {
   "codemirror_mode": {
    "name": "ipython",
    "version": 2
   },
   "file_extension": ".py",
   "mimetype": "text/x-python",
   "name": "python",
   "nbconvert_exporter": "python",
   "pygments_lexer": "ipython2",
   "version": "2.7.12"
  }
 },
 "nbformat": 4,
 "nbformat_minor": 0
}
