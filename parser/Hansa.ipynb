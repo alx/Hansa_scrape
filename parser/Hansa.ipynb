{
 "cells": [
  {
   "cell_type": "code",
   "execution_count": 206,
   "metadata": {
    "collapsed": true
   },
   "outputs": [],
   "source": [
    "from BeautifulSoup import BeautifulSoup as BS\n",
    "#import pandas as pd\n",
    "from StringIO import StringIO\n",
    "from collections import namedtuple\n",
    "import os\n",
    "from pprint import pprint\n",
    "from HTMLParser import HTMLParser"
   ]
  },
  {
   "cell_type": "code",
   "execution_count": 207,
   "metadata": {
    "collapsed": true
   },
   "outputs": [],
   "source": [
    "html=open(\"/Users/pg/code/hamsa/listing.html\").read()"
   ]
  },
  {
   "cell_type": "code",
   "execution_count": 217,
   "metadata": {
    "collapsed": false
   },
   "outputs": [],
   "source": [
    "def parser_product(html):\n",
    "    soup=BS(html)\n",
    "\n",
    "    Entry=namedtuple('Entry', ['product_id','product', 'price_usd', \"price_btc\",\n",
    "                     \"vendor\",\"vendor_url\",\"product_type\",\n",
    "                    'delivery'])\n",
    "\n",
    "    li = soup.findAll(\"div\",{\"class\":\"row\"})[1].find(\"div\",{'class':\"col-md-8\"})\n",
    "\n",
    "\n",
    "    entry = { 'product_id':li.form.get('action'),\n",
    "    'product':li.h2.text,\n",
    "    'price_usd':li.find(\"div\",{\"class\":\"listing-price\"}).strong.text,\n",
    "    'price_btc':li.find(\"div\",{\"class\":\"listing-price\"}).span.text,\n",
    "    'vendor':li.tr.findAll(\"td\")[1].a.text,\n",
    "    'vendor_url':li.tr.findAll(\"td\")[1].a[\"href\"], \n",
    "    'product_type':li.findAll(\"td\")[3].text,        \n",
    "    'delivery':li.findAll(\"td\")[5].text,        \n",
    "    #'description':soup.p.text\n",
    "    }\n",
    "\n",
    "    return Entry(**entry)"
   ]
  },
  {
   "cell_type": "code",
   "execution_count": 277,
   "metadata": {
    "collapsed": true
   },
   "outputs": [],
   "source": [
    "def parser_feedback(html):\n",
    "    soup=BS(html)\n",
    "    feedbacks=[]\n",
    "    li = soup.findAll(\"div\",{\"class\":\"row\"})[1].find(\"div\",{'class':\"col-md-8\"})\n",
    "    prod=li.form.get('action')\n",
    "    Feedback = namedtuple(\"Feedback\", [\"date\",'user',\"delivery_time\", \"note\", \"text\"])\n",
    "    h=HTMLParser()\n",
    "    try:\n",
    "        for e in soup.find(\"table\",{\"class\":\"table\"}).tbody.findAll(\"tr\"):\n",
    "            feed,text,deliv,user,date=e.findAll('td')\n",
    "            feed=feed.span.get(\"class\").split()[1].split(\"-\")[1] \n",
    "            note=0\n",
    "            if feed == 'danger':\n",
    "                note=-1\n",
    "            if feed == \"default\":\n",
    "                note=0\n",
    "            if feed == \"success\":\n",
    "                note=1\n",
    "        #print \"||\".join([date.text,user.text, h.unescape(text.text),  deliv.text])\n",
    "            f=Feedback(date.text,user.text,deliv.text, note, text.text)\n",
    "            feedbacks.append(f)\n",
    "    except AttributeError:\n",
    "        pass\n",
    "    return feedbacks\n",
    "        "
   ]
  },
  {
   "cell_type": "code",
   "execution_count": 266,
   "metadata": {
    "collapsed": false
   },
   "outputs": [],
   "source": [
    "def parser_vendor(html):\n",
    "    \n",
    "    Vendor = namedtuple(\"Vendor\", [\"vendor_url\", 'name', \n",
    "                                   'last_seen', 'since', 'order_count', \n",
    "                                  'avg_volume', \"pos_fb\", 'neutral_fb', 'neg_fb'])\n",
    "    soup=BS(html)\n",
    "    x=soup.find(\"div\", {\"class\":\"col-md-12\", \"style\":\"background-color: #f5f5f5;\"})\n",
    "    y=nn.find(\"div\",  {'class':\"row row-vendor-profile\"})\n",
    "    \n",
    "    vendor_url = x.h1.a.get(\"href\")\n",
    "    vendor = x.h1.contents[0]\n",
    "    \n",
    "    last_seen=x.find(\"p\", {\"class\":\"text-muted\"}).contents[0].split()[3]\n",
    "    since = x.find(\"p\", {\"class\":\"text-muted\"}).contents[2].split()[4]\n",
    "    \n",
    "    order_count = y.findAll(\"div\", {'class':\"col-md-3 text-center\"})[0].p.strong.text\n",
    "    avg_volume=y.findAll(\"div\", {'class':\"col-md-3 text-center\"})[1].p.strong.text\n",
    "    \n",
    "    pos_fb = y.findAll(\"div\", {'class':\"col-md-4\"})[0].p.strong.text\n",
    "    neutral_fb = y.findAll(\"div\", {'class':\"col-md-4\"})[1].p.strong.text\n",
    "    neg_fb = y.findAll(\"div\", {'class':\"col-md-4\"})[2].p.strong.text\n",
    "    \n",
    "    return Vendor(vendor_url,vendor,last_seen, since,order_count, avg_volume, pos_fb, neutral_fb,neg_fb)\n",
    "    \n",
    "#parser_product(d)"
   ]
  },
  {
   "cell_type": "code",
   "execution_count": 271,
   "metadata": {
    "collapsed": true
   },
   "outputs": [],
   "source": [
    "def fetch_tor(url):\n",
    "    #url='http://hansamkt2rr6nfg3.onion/vendor/ProfessorDark/'\n",
    "    cmd=\"curl --socks4a 127.0.0.1:9150 \"+ url +\" -A 'Mozilla/5.0 (Windows NT 6.1; rv:45.0) Gecko/20100101 Firefox/45.0' \"\n",
    "    return os.popen(cmd).read()\n"
   ]
  },
  {
   "cell_type": "code",
   "execution_count": 272,
   "metadata": {
    "collapsed": false
   },
   "outputs": [
    {
     "data": {
      "text/plain": [
       "Vendor(vendor_url=u'/store/ProfessorDark/', name=u'ProfessorDark ', last_seen=u'2016-12-06', since=u'2015-11-08', order_count=u'1000+', avg_volume=u'0.00549751', pos_fb=u'2929', neutral_fb=u'108', neg_fb=u'38')"
      ]
     },
     "execution_count": 272,
     "metadata": {},
     "output_type": "execute_result"
    }
   ],
   "source": [
    "#vendor\n",
    "url='http://hansamkt2rr6nfg3.onion/vendor/ProfessorDark/'\n",
    "d=fetch_tor(url)\n",
    "parser_vendor(d)\n",
    "#parser_feedback(d)\n",
    "#nn.form.get('action')"
   ]
  },
  {
   "cell_type": "code",
   "execution_count": 273,
   "metadata": {
    "collapsed": false
   },
   "outputs": [
    {
     "data": {
      "text/plain": [
       "Entry(product_id=u'/listing/39972/', product=u'5g Sour Diesel Bio A+++ (Medical Grade) !!Shipping From Germany!!', price_usd=u'USD 53.71', price_btc=u'0.0703', vendor=u'GermanDrugsShippers', vendor_url=u'/vendor/GermanDrugsShippers/', product_type=u'Physical', delivery=u'Germany')"
      ]
     },
     "execution_count": 273,
     "metadata": {},
     "output_type": "execute_result"
    }
   ],
   "source": [
    "#product\n",
    "url='http://hansamkt2rr6nfg3.onion/listing/39972/feedback/'\n",
    "d=fetch_tor(url)\n",
    "parser_product(d)"
   ]
  },
  {
   "cell_type": "code",
   "execution_count": 278,
   "metadata": {
    "collapsed": false
   },
   "outputs": [
    {
     "data": {
      "text/plain": [
       "[Feedback(date=u'2016-12-03 15:51 UTC', user=u's***8', delivery_time=u'Next Day', note=1, text=u'Schnelle lieferung. Weed ist ok'),\n",
       " Feedback(date=u'2016-12-02 13:47 UTC', user=u'A***e', delivery_time=u'3 days', note=1, text=u'very fast, very good quality ;-))'),\n",
       " Feedback(date=u'2016-11-21 18:58 UTC', user=u'M***t', delivery_time=u'Not specified', note=1, text=u'Stealth was bad. The product itself is fantastic though, I got one big nug and some shake but the quality is really good.'),\n",
       " Feedback(date=u'2016-11-18 08:20 UTC', user=u'M***s', delivery_time=u'5 days', note=1, text=u'Goods are ok, great smell, great smoke, stealth is simple yet effective, would recommend this seller. A+'),\n",
       " Feedback(date=u'2016-11-07 14:08 UTC', user=u'J***d', delivery_time=u'3 days', note=1, text=u'Awesome like everytime!'),\n",
       " Feedback(date=u'2016-11-03 14:49 UTC', user=u'p***x', delivery_time=u'2 days', note=1, text=u'Not as good as I expected.Some &quot;extra sticks&quot;from cutoffs inside...Overall it&#039;s ok for the price.6.5/10 would buy again'),\n",
       " Feedback(date=u'2016-10-31 07:24 UTC', user=u'n***a', delivery_time=u'4 days', note=1, text=u'As always...great!'),\n",
       " Feedback(date=u'2016-10-29 18:07 UTC', user=u't***g', delivery_time=u'5 days', note=1, text=u'Gewicht exakt, Qualit\\xc3\\xa4t 1A'),\n",
       " Feedback(date=u'2016-10-28 09:39 UTC', user=u'M***6', delivery_time=u'5 days', note=1, text=u'Good bio quality weeed. Stealth is good.'),\n",
       " Feedback(date=u'2016-10-25 18:10 UTC', user=u'N***u', delivery_time=u'5 days', note=1, text=u'Delivery and weight both perfect. Cheers.'),\n",
       " Feedback(date=u'2016-10-25 13:41 UTC', user=u'c***4', delivery_time=u'5 days', note=0, text=u'Good stealth and fast shipping. Good looking weed &amp; nice high but do not smell like a Sour D has to smell, same for the taste, bad drying &amp; no curring probably... Definitly not a &quot;medical grade&quot; but an average commercial weed.And I know what is a good bio weed sir, it&#039;s smell strong too, this just smell like spinach... That&#039;s why it&#039;s a neutral feedback.'),\n",
       " Feedback(date=u'2016-10-22 15:15 UTC', user=u'H***k', delivery_time=u'3 days', note=1, text=u'Everything went fine (:'),\n",
       " Feedback(date=u'2016-10-22 00:09 UTC', user=u'r***y', delivery_time=u'4 days', note=1, text=u'Everything went great with this order!The product looks great and has that characteristic Sour Diesel smell, the buds are big and not too compressed inside the package.Delivery was on time, and stealth was on point too :)I would definitely order from this vendor again =)'),\n",
       " Feedback(date=u'2016-10-21 00:54 UTC', user=u'z***3', delivery_time=u'Not specified', note=1, text=u'---'),\n",
       " Feedback(date=u'2016-10-15 14:46 UTC', user=u'g***o', delivery_time=u'Not specified', note=1, text=u'---'),\n",
       " Feedback(date=u'2016-10-15 12:23 UTC', user=u'J***d', delivery_time=u'3 days', note=1, text=u'Top!'),\n",
       " Feedback(date=u'2016-10-03 15:37 UTC', user=u'n***a', delivery_time=u'Not specified', note=1, text=u'great stuff!'),\n",
       " Feedback(date=u'2016-09-27 12:59 UTC', user=u'f***1', delivery_time=u'Not specified', note=1, text=u'no problems, everything went well :)')]"
      ]
     },
     "execution_count": 278,
     "metadata": {},
     "output_type": "execute_result"
    }
   ],
   "source": [
    "parser_feedback(d)"
   ]
  },
  {
   "cell_type": "code",
   "execution_count": null,
   "metadata": {
    "collapsed": true
   },
   "outputs": [],
   "source": []
  }
 ],
 "metadata": {
  "kernelspec": {
   "display_name": "Python 2",
   "language": "python",
   "name": "python2"
  },
  "language_info": {
   "codemirror_mode": {
    "name": "ipython",
    "version": 2
   },
   "file_extension": ".py",
   "mimetype": "text/x-python",
   "name": "python",
   "nbconvert_exporter": "python",
   "pygments_lexer": "ipython2",
   "version": "2.7.12"
  }
 },
 "nbformat": 4,
 "nbformat_minor": 0
}
